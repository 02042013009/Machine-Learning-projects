{
  "nbformat": 4,
  "nbformat_minor": 0,
  "metadata": {
    "colab": {
      "name": "my_boston_housing.ipynb",
      "version": "0.3.2",
      "provenance": [],
      "collapsed_sections": [],
      "include_colab_link": true
    },
    "kernelspec": {
      "name": "python3",
      "display_name": "Python 3"
    },
    "accelerator": "GPU"
  },
  "cells": [
    {
      "cell_type": "markdown",
      "metadata": {
        "id": "view-in-github",
        "colab_type": "text"
      },
      "source": [
        "<a href=\"https://colab.research.google.com/github/02042013009/Machine-Learning-projects/blob/master/my_boston_housing.ipynb\" target=\"_parent\"><img src=\"https://colab.research.google.com/assets/colab-badge.svg\" alt=\"Open In Colab\"/></a>"
      ]
    },
    {
      "metadata": {
        "id": "F4YPxPKxdUGA",
        "colab_type": "text"
      },
      "cell_type": "markdown",
      "source": [
        "# Machine Learning Engineer Nanodegree\n",
        "## Model Evaluation & Validation\n",
        "## Project: Predicting Boston Housing Prices\n",
        "\n",
        "Welcome to the first project of the Machine Learning Engineer Nanodegree! In this notebook, some template code has already been provided for you, and you will need to implement additional functionality to successfully complete this project. You will not need to modify the included code beyond what is requested. Sections that begin with **'Implementation'** in the header indicate that the following block of code will require additional functionality which you must provide. Instructions will be provided for each section and the specifics of the implementation are marked in the code block with a 'TODO' statement. Please be sure to read the instructions carefully!\n",
        "\n",
        "In addition to implementing code, there will be questions that you must answer which relate to the project and your implementation. Each section where you will answer a question is preceded by a **'Question X'** header. Carefully read each question and provide thorough answers in the following text boxes that begin with **'Answer:'**. Your project submission will be evaluated based on your answers to each of the questions and the implementation you provide.  \n",
        "\n",
        ">**Note:** Code and Markdown cells can be executed using the **Shift + Enter** keyboard shortcut. In addition, Markdown cells can be edited by typically double-clicking the cell to enter edit mode."
      ]
    },
    {
      "metadata": {
        "id": "uyn0b6pRCaw7",
        "colab_type": "code",
        "outputId": "6fb038f4-35bb-4462-b75c-3a3cc0e922c5",
        "colab": {
          "base_uri": "https://localhost:8080/",
          "height": 34
        }
      },
      "cell_type": "code",
      "source": [
        "!git clone https://github.com/udacity/machine-learning.git\n",
        "  "
      ],
      "execution_count": 0,
      "outputs": [
        {
          "output_type": "stream",
          "text": [
            "fatal: destination path 'machine-learning' already exists and is not an empty directory.\n"
          ],
          "name": "stdout"
        }
      ]
    },
    {
      "metadata": {
        "id": "yckedLMOGTST",
        "colab_type": "text"
      },
      "cell_type": "markdown",
      "source": [
        "cloning git project in colab"
      ]
    },
    {
      "metadata": {
        "id": "p6OisPU_ELS3",
        "colab_type": "code",
        "outputId": "bf4a930e-b893-4701-c80d-74d83d1d9e9f",
        "colab": {
          "base_uri": "https://localhost:8080/",
          "height": 34
        }
      },
      "cell_type": "code",
      "source": [
        "import shutil\n",
        "shutil.move(\"/content/machine-learning/projects/boston_housing/housing.csv\", \"/content\") \n",
        "shutil.move(\"/content/machine-learning/projects/boston_housing/visuals.py\", \"/content\") \n",
        "shutil.move(\"/content/machine-learning/projects/boston_housing/project_description.md\", \"/content\") "
      ],
      "execution_count": 0,
      "outputs": [
        {
          "output_type": "execute_result",
          "data": {
            "text/plain": [
              "'/content/project_description.md'"
            ]
          },
          "metadata": {
            "tags": []
          },
          "execution_count": 2
        }
      ]
    },
    {
      "metadata": {
        "id": "79ThNei5F-pM",
        "colab_type": "text"
      },
      "cell_type": "markdown",
      "source": [
        "import housing csv file from other directory"
      ]
    },
    {
      "metadata": {
        "id": "de-ddU8pdUGE",
        "colab_type": "text"
      },
      "cell_type": "markdown",
      "source": [
        "## Getting Started\n",
        "In this project, you will evaluate the performance and predictive power of a model that has been trained and tested on data collected from homes in suburbs of Boston, Massachusetts. A model trained on this data that is seen as a *good fit* could then be used to make certain predictions about a home — in particular, its monetary value. This model would prove to be invaluable for someone like a real estate agent who could make use of such information on a daily basis.\n",
        "\n",
        "The dataset for this project originates from the [UCI Machine Learning Repository](https://archive.ics.uci.edu/ml/datasets/Housing). The Boston housing data was collected in 1978 and each of the 506 entries represent aggregated data about 14 features for homes from various suburbs in Boston, Massachusetts. For the purposes of this project, the following preprocessing steps have been made to the dataset:\n",
        "- 16 data points have an `'MEDV'` value of 50.0. These data points likely contain **missing or censored values** and have been removed.\n",
        "- 1 data point has an `'RM'` value of 8.78. This data point can be considered an **outlier** and has been removed.\n",
        "- The features `'RM'`, `'LSTAT'`, `'PTRATIO'`, and `'MEDV'` are essential. The remaining **non-relevant features** have been excluded.\n",
        "- The feature `'MEDV'` has been **multiplicatively scaled** to account for 35 years of market inflation.\n",
        "\n",
        "Run the code cell below to load the Boston housing dataset, along with a few of the necessary Python libraries required for this project. You will know the dataset loaded successfully if the size of the dataset is reported."
      ]
    },
    {
      "metadata": {
        "id": "76wgft7idUGG",
        "colab_type": "code",
        "outputId": "4320748e-f460-4e2f-c2dd-351ae89f1ae6",
        "colab": {
          "base_uri": "https://localhost:8080/",
          "height": 34
        }
      },
      "cell_type": "code",
      "source": [
        "# Import libraries necessary for this project\n",
        "import numpy as np\n",
        "import pandas as pd\n",
        "from sklearn.model_selection import ShuffleSplit\n",
        "\n",
        "# Import supplementary visualizations code visuals.py\n",
        "import visuals as vs\n",
        "\n",
        "# Pretty display for notebooks\n",
        "%matplotlib inline\n",
        "\n",
        "# Load the Boston housing dataset\n",
        "data = pd.read_csv('housing.csv')\n",
        "prices = data['MEDV']\n",
        "features = data.drop('MEDV', axis = 1)\n",
        "    \n",
        "# Success\n",
        "print(\"Boston housing dataset has {} data points with {} variables each.\".format(*data.shape))"
      ],
      "execution_count": 0,
      "outputs": [
        {
          "output_type": "stream",
          "text": [
            "Boston housing dataset has 489 data points with 4 variables each.\n"
          ],
          "name": "stdout"
        }
      ]
    },
    {
      "metadata": {
        "id": "_XQvNWsupvpy",
        "colab_type": "code",
        "colab": {}
      },
      "cell_type": "code",
      "source": [
        "print(features['RM'])"
      ],
      "execution_count": 0,
      "outputs": []
    },
    {
      "metadata": {
        "id": "DjNtanx0FetE",
        "colab_type": "code",
        "colab": {}
      },
      "cell_type": "code",
      "source": [
        "rm -rf machine-learning/"
      ],
      "execution_count": 0,
      "outputs": []
    },
    {
      "metadata": {
        "id": "Jp05tnNTGbaj",
        "colab_type": "text"
      },
      "cell_type": "markdown",
      "source": [
        "removing dictory from the colab notebook"
      ]
    },
    {
      "metadata": {
        "id": "JikZ6H9yFqH0",
        "colab_type": "code",
        "colab": {}
      },
      "cell_type": "code",
      "source": [
        "!ls\n"
      ],
      "execution_count": 0,
      "outputs": []
    },
    {
      "metadata": {
        "id": "FyuJg2KLdUGM",
        "colab_type": "text"
      },
      "cell_type": "markdown",
      "source": [
        "## Data Exploration\n",
        "In this first section of this project, you will make a cursory investigation about the Boston housing data and provide your observations. Familiarizing yourself with the data through an explorative process is a fundamental practice to help you better understand and justify your results.\n",
        "\n",
        "Since the main goal of this project is to construct a working model which has the capability of predicting the value of houses, we will need to separate the dataset into **features** and the **target variable**. The **features**, `'RM'`, `'LSTAT'`, and `'PTRATIO'`, give us quantitative information about each data point. The **target variable**, `'MEDV'`, will be the variable we seek to predict. These are stored in `features` and `prices`, respectively."
      ]
    },
    {
      "metadata": {
        "id": "gcqA4vFbdUGO",
        "colab_type": "text"
      },
      "cell_type": "markdown",
      "source": [
        "### Implementation: Calculate Statistics\n",
        "For your very first coding implementation, you will calculate descriptive statistics about the Boston housing prices. Since `numpy` has already been imported for you, use this library to perform the necessary calculations. These statistics will be extremely important later on to analyze various prediction results from the constructed model.\n",
        "\n",
        "In the code cell below, you will need to implement the following:\n",
        "- Calculate the minimum, maximum, mean, median, and standard deviation of `'MEDV'`, which is stored in `prices`.\n",
        "  - Store each calculation in their respective variable."
      ]
    },
    {
      "metadata": {
        "id": "OPWmh66zdUGQ",
        "colab_type": "code",
        "outputId": "80a46483-9301-4670-cebd-b191516c40bb",
        "colab": {
          "base_uri": "https://localhost:8080/",
          "height": 153
        }
      },
      "cell_type": "code",
      "source": [
        "# TODO: Minimum price of the data\n",
        "minimum_price = np.min(prices)\n",
        "\n",
        "# TODO: Maximum price of the data\n",
        "maximum_price = np.max(prices)\n",
        "\n",
        "# TODO: Mean price of the data\n",
        "mean_price = np.mean(prices)\n",
        "\n",
        "# TODO: Median price of the data\n",
        "median_price = np.median(prices)\n",
        "\n",
        "# TODO: Standard deviation of prices of the data\n",
        "std_price = np.std(prices)\n",
        "\n",
        "# Show the calculated statistics\n",
        "print(type(prices))\n",
        "print(\"Statistics for Boston housing dataset:\\n\")\n",
        "print(\"Minimum price: ${}\".format(minimum_price)) \n",
        "print(\"Maximum price: ${}\".format(maximum_price))\n",
        "print(\"Mean price: ${}\".format(mean_price))\n",
        "print(\"Median price ${}\".format(median_price))\n",
        "print(\"Standard deviation of prices: ${}\".format(std_price))"
      ],
      "execution_count": 0,
      "outputs": [
        {
          "output_type": "stream",
          "text": [
            "<class 'pandas.core.series.Series'>\n",
            "Statistics for Boston housing dataset:\n",
            "\n",
            "Minimum price: $105000.0\n",
            "Maximum price: $1024800.0\n",
            "Mean price: $454342.9447852761\n",
            "Median price $438900.0\n",
            "Standard deviation of prices: $165171.13154429477\n"
          ],
          "name": "stdout"
        }
      ]
    },
    {
      "metadata": {
        "id": "Wwj0s474dUGZ",
        "colab_type": "text"
      },
      "cell_type": "markdown",
      "source": [
        "### Question 1 - Feature Observation\n",
        "As a reminder, we are using three features from the Boston housing dataset: `'RM'`, `'LSTAT'`, and `'PTRATIO'`. For each data point (neighborhood):\n",
        "- `'RM'` is the average number of rooms among homes in the neighborhood.\n",
        "- `'LSTAT'` is the percentage of homeowners in the neighborhood considered \"lower class\" (working poor).\n",
        "- `'PTRATIO'` is the ratio of students to teachers in primary and secondary schools in the neighborhood.\n",
        "\n",
        "\n",
        "** Using your intuition, for each of the three features above, do you think that an increase in the value of that feature would lead to an **increase** in the value of `'MEDV'` or a **decrease** in the value of `'MEDV'`? Justify your answer for each.**\n",
        "\n",
        "**Hint:** This problem can phrased using examples like below.  \n",
        "* Would you expect a home that has an `'RM'` value(number of rooms) of 6 be worth more or less than a home that has an `'RM'` value of 7?\n",
        "* Would you expect a neighborhood that has an `'LSTAT'` value(percent of lower class workers) of 15 have home prices be worth more or less than a neighborhood that has an `'LSTAT'` value of 20?\n",
        "* Would you expect a neighborhood that has an `'PTRATIO'` value(ratio of students to teachers) of 10 have home prices be worth more or less than a neighborhood that has an `'PTRATIO'` value of 15?"
      ]
    },
    {
      "metadata": {
        "id": "YZrwrj1XdUGb",
        "colab_type": "text"
      },
      "cell_type": "markdown",
      "source": [
        "**Answer: **\n",
        "An increase in value of RM will cause increase in MEDV becuase the prices of house is more if the house has more number of rooms.\n",
        "\n",
        "Where as an increase in the value LSTAT will cause decrease in value of MEDV because lower class workers efford to pay less price for their house.\n",
        "\n",
        "If the neighbourhood has less teacher to student ratio, that neighourhood will be of higher demand which enbles to increse in housing price. Therefore, increase in teacher student ratio cause decrease in prices of the house."
      ]
    },
    {
      "metadata": {
        "id": "5bsUq4_YhnHP",
        "colab_type": "code",
        "outputId": "1debbd80-05ed-4ba4-8613-67b712ec222f",
        "colab": {
          "base_uri": "https://localhost:8080/",
          "height": 296
        }
      },
      "cell_type": "code",
      "source": [
        "import matplotlib.pyplot as plt\n",
        "plt.plot(features['RM'],prices,'bo')\n",
        "plt.xlabel('RM')\n",
        "plt.ylabel('Prices')\n",
        "\n"
      ],
      "execution_count": 0,
      "outputs": [
        {
          "output_type": "execute_result",
          "data": {
            "text/plain": [
              "Text(0, 0.5, 'Prices')"
            ]
          },
          "metadata": {
            "tags": []
          },
          "execution_count": 5
        },
        {
          "output_type": "display_data",
          "data": {
            "image/png": "[encoded data removed]",
            "text/plain": [
              "<Figure size 432x288 with 1 Axes>"
            ]
          },
          "metadata": {
            "tags": []
          }
        }
      ]
    },
    {
      "metadata": {
        "id": "4s8nq9ZYjeht",
        "colab_type": "code",
        "outputId": "65b4e028-1d47-4f8e-f81f-1bcb127f1d01",
        "colab": {
          "base_uri": "https://localhost:8080/",
          "height": 296
        }
      },
      "cell_type": "code",
      "source": [
        "import matplotlib.pyplot as plt\n",
        "plt.plot(features['LSTAT'],prices,'ro')\n",
        "plt.xlabel('LSTAT')\n",
        "plt.ylabel('Prices')"
      ],
      "execution_count": 0,
      "outputs": [
        {
          "output_type": "execute_result",
          "data": {
            "text/plain": [
              "Text(0, 0.5, 'Prices')"
            ]
          },
          "metadata": {
            "tags": []
          },
          "execution_count": 20
        },
        {
          "output_type": "display_data",
          "data": {
            "image/png": "[encoded data removed]",
            "text/plain": [
              "<Figure size 432x288 with 1 Axes>"
            ]
          },
          "metadata": {
            "tags": []
          }
        }
      ]
    },
    {
      "metadata": {
        "id": "uydN_L1cjmYd",
        "colab_type": "code",
        "outputId": "5af9b993-340c-4d05-d146-5051d1729a10",
        "colab": {
          "base_uri": "https://localhost:8080/",
          "height": 296
        }
      },
      "cell_type": "code",
      "source": [
        "plt.plot(features['PTRATIO'],prices,'go')\n",
        "plt.xlabel('PTRATIO')\n",
        "plt.ylabel('Prices')"
      ],
      "execution_count": 0,
      "outputs": [
        {
          "output_type": "execute_result",
          "data": {
            "text/plain": [
              "Text(0, 0.5, 'Prices')"
            ]
          },
          "metadata": {
            "tags": []
          },
          "execution_count": 24
        },
        {
          "output_type": "display_data",
          "data": {
            "image/png": "[encoded data removed]",
            "text/plain": [
              "<Figure size 432x288 with 1 Axes>"
            ]
          },
          "metadata": {
            "tags": []
          }
        }
      ]
    },
    {
      "metadata": {
        "id": "cHm3ZKuQlZWm",
        "colab_type": "code",
        "outputId": "09ed0fb8-8dc9-4f67-a4ed-9b8052a429d6",
        "colab": {
          "base_uri": "https://localhost:8080/",
          "height": 34
        }
      },
      "cell_type": "code",
      "source": [
        "np.corrcoef(features['RM'],prices)[0, 1]"
      ],
      "execution_count": 0,
      "outputs": [
        {
          "output_type": "execute_result",
          "data": {
            "text/plain": [
              "0.6972092210185159"
            ]
          },
          "metadata": {
            "tags": []
          },
          "execution_count": 26
        }
      ]
    },
    {
      "metadata": {
        "id": "AHex4Xdnlya8",
        "colab_type": "code",
        "outputId": "ff725ac0-2998-4a05-cea2-3a6a6081b8fc",
        "colab": {
          "base_uri": "https://localhost:8080/",
          "height": 34
        }
      },
      "cell_type": "code",
      "source": [
        "np.corrcoef(features['LSTAT'],prices)[0, 1]"
      ],
      "execution_count": 0,
      "outputs": [
        {
          "output_type": "execute_result",
          "data": {
            "text/plain": [
              "-0.7606700599726771"
            ]
          },
          "metadata": {
            "tags": []
          },
          "execution_count": 28
        }
      ]
    },
    {
      "metadata": {
        "id": "90W6HUlLl630",
        "colab_type": "code",
        "outputId": "b0c21759-eee4-4c58-d991-70f2c67a7899",
        "colab": {
          "base_uri": "https://localhost:8080/",
          "height": 34
        }
      },
      "cell_type": "code",
      "source": [
        "np.corrcoef(features['PTRATIO'],prices)[0, 1]"
      ],
      "execution_count": 0,
      "outputs": [
        {
          "output_type": "execute_result",
          "data": {
            "text/plain": [
              "-0.5190335035317878"
            ]
          },
          "metadata": {
            "tags": []
          },
          "execution_count": 29
        }
      ]
    },
    {
      "metadata": {
        "id": "OtHjWL5sdUGd",
        "colab_type": "text"
      },
      "cell_type": "markdown",
      "source": [
        "----\n",
        "\n",
        "## Developing a Model\n",
        "In this second section of the project, you will develop the tools and techniques necessary for a model to make a prediction. Being able to make accurate evaluations of each model's performance through the use of these tools and techniques helps to greatly reinforce the confidence in your predictions."
      ]
    },
    {
      "metadata": {
        "id": "F60xSXgadUGf",
        "colab_type": "text"
      },
      "cell_type": "markdown",
      "source": [
        "### Implementation: Define a Performance Metric\n",
        "It is difficult to measure the quality of a given model without quantifying its performance over training and testing. This is typically done using some type of performance metric, whether it is through calculating some type of error, the goodness of fit, or some other useful measurement. For this project, you will be calculating the [*coefficient of determination*](http://stattrek.com/statistics/dictionary.aspx?definition=coefficient_of_determination), R<sup>2</sup>, to quantify your model's performance. The coefficient of determination for a model is a useful statistic in regression analysis, as it often describes how \"good\" that model is at making predictions. \n",
        "\n",
        "The values for R<sup>2</sup> range from 0 to 1, which captures the percentage of squared correlation between the predicted and actual values of the **target variable**. A model with an R<sup>2</sup> of 0 is no better than a model that always predicts the *mean* of the target variable, whereas a model with an R<sup>2</sup> of 1 perfectly predicts the target variable. Any value between 0 and 1 indicates what percentage of the target variable, using this model, can be explained by the **features**. _A model can be given a negative R<sup>2</sup> as well, which indicates that the model is **arbitrarily worse** than one that always predicts the mean of the target variable._\n",
        "\n",
        "For the `performance_metric` function in the code cell below, you will need to implement the following:\n",
        "- Use `r2_score` from `sklearn.metrics` to perform a performance calculation between `y_true` and `y_predict`.\n",
        "- Assign the performance score to the `score` variable."
      ]
    },
    {
      "metadata": {
        "id": "8wVeOxNydUGh",
        "colab_type": "code",
        "colab": {}
      },
      "cell_type": "code",
      "source": [
        "# TODO: Import 'r2_score'\n",
        "from sklearn.metrics import r2_score\n",
        "\n",
        "\n",
        "def performance_metric(y_true, y_predict):\n",
        "    \"\"\" Calculates and returns the performance score between \n",
        "        true and predicted values based on the metric chosen. \"\"\"\n",
        "    \n",
        "    # TODO: Calculate the performance score between 'y_true' and 'y_predict'\n",
        "    score = r2_score(y_true,y_predict)\n",
        "    \n",
        "    # Return the score\n",
        "    return score"
      ],
      "execution_count": 0,
      "outputs": []
    },
    {
      "metadata": {
        "id": "4nkB4ZyjdUGp",
        "colab_type": "text"
      },
      "cell_type": "markdown",
      "source": [
        "### Question 2 - Goodness of Fit\n",
        "Assume that a dataset contains five data points and a model made the following predictions for the target variable:\n",
        "\n",
        "| True Value | Prediction |\n",
        "| :-------------: | :--------: |\n",
        "| 3.0 | 2.5 |\n",
        "| -0.5 | 0.0 |\n",
        "| 2.0 | 2.1 |\n",
        "| 7.0 | 7.8 |\n",
        "| 4.2 | 5.3 |\n",
        "\n",
        "Run the code cell below to use the `performance_metric` function and calculate this model's coefficient of determination."
      ]
    },
    {
      "metadata": {
        "id": "xdEUU1u9dUGr",
        "colab_type": "code",
        "outputId": "5c26fa05-0162-43e6-b25a-61fac8a375c8",
        "colab": {
          "base_uri": "https://localhost:8080/",
          "height": 34
        }
      },
      "cell_type": "code",
      "source": [
        "# Calculate the performance of this model\n",
        "score = performance_metric([3, -0.5, 2, 7, 4.2], [2.5, 0.0, 2.1, 7.8, 5.3])\n",
        "print(\"Model has a coefficient of determination, R^2, of {:.3f}.\".format(score))"
      ],
      "execution_count": 0,
      "outputs": [
        {
          "output_type": "stream",
          "text": [
            "Model has a coefficient of determination, R^2, of 0.923.\n"
          ],
          "name": "stdout"
        }
      ]
    },
    {
      "metadata": {
        "id": "5DZTexPKdUGx",
        "colab_type": "text"
      },
      "cell_type": "markdown",
      "source": [
        "* Would you consider this model to have successfully captured the variation of the target variable? \n",
        "* Why or why not?\n",
        "\n",
        "** Hint: **  The R2 score is the proportion of the variance in the dependent variable that is predictable from the independent variable. In other words:\n",
        "* R2 score of 0 means that the dependent variable cannot be predicted from the independent variable.\n",
        "* R2 score of 1 means the dependent variable can be predicted from the independent variable.\n",
        "* R2 score between 0 and 1 indicates the extent to which the dependent variable is predictable. An \n",
        "* R2 score of 0.40 means that 40 percent of the variance in Y is predictable from X."
      ]
    },
    {
      "metadata": {
        "id": "7fubJhvZdUGz",
        "colab_type": "text"
      },
      "cell_type": "markdown",
      "source": [
        "**Answer:** The  R2 value obtained is 0.923 which is almost equal to 1. This means that 92% of the variance in dependent variable can be predicted from independent variable. Therefore the this modal have successfuly captured the variation of the target variable"
      ]
    },
    {
      "metadata": {
        "id": "wXRCDC_VdUG4",
        "colab_type": "text"
      },
      "cell_type": "markdown",
      "source": [
        "### Implementation: Shuffle and Split Data\n",
        "Your next implementation requires that you take the Boston housing dataset and split the data into training and testing subsets. Typically, the data is also shuffled into a random order when creating the training and testing subsets to remove any bias in the ordering of the dataset.\n",
        "\n",
        "For the code cell below, you will need to implement the following:\n",
        "- Use `train_test_split` from `sklearn.model_selection` to shuffle and split the `features` and `prices` data into training and testing sets.\n",
        "  - Split the data into 80% training and 20% testing.\n",
        "  - Set the `random_state` for `train_test_split` to a value of your choice. This ensures results are consistent.\n",
        "- Assign the train and testing splits to `X_train`, `X_test`, `y_train`, and `y_test`."
      ]
    },
    {
      "metadata": {
        "id": "tcKBN4gidUG6",
        "colab_type": "code",
        "outputId": "ea8f786e-e721-419c-c74f-5eb716cea849",
        "colab": {
          "base_uri": "https://localhost:8080/",
          "height": 34
        }
      },
      "cell_type": "code",
      "source": [
        "# TODO: Import 'train_test_split'\n",
        "from sklearn.model_selection import train_test_split\n",
        "\n",
        "# TODO: Shuffle and split the data into training and testing subsets\n",
        "X_train, X_test, y_train, y_test = train_test_split(features, prices, test_size=0.20, random_state=42)\n",
        "\n",
        "# Success\n",
        "print(\"Training and testing split was successful.\")"
      ],
      "execution_count": 0,
      "outputs": [
        {
          "output_type": "stream",
          "text": [
            "Training and testing split was successful.\n"
          ],
          "name": "stdout"
        }
      ]
    },
    {
      "metadata": {
        "id": "-glNvpQpdUHF",
        "colab_type": "text"
      },
      "cell_type": "markdown",
      "source": [
        "### Question 3 - Training and Testing\n",
        "\n",
        "* What is the benefit to splitting a dataset into some ratio of training and testing subsets for a learning algorithm?\n",
        "\n",
        "**Hint:** Think about how overfitting or underfitting is contingent upon how splits on data is done."
      ]
    },
    {
      "metadata": {
        "id": "Ounru-PJdUHH",
        "colab_type": "text"
      },
      "cell_type": "markdown",
      "source": [
        "**Answer: **  When we train data based on some algorithms, it works well with that training data but if we don't test algorithm with new unseen data, we will never know whether our algorithm works perfectly well with any data or it has memorised the training data. There is chances that our algorithm works well only with the given training data and it give completely wrong result with new data. This is called overfitting. Sometimes our algorithm may not understand any patthern from our data. This is called underfitting. Therefore to avoid overfitting and underfitting, it is essential to split a dataset to some ratio of training and testing subset so that algorithm is trained on training data and later tested using totally unseen test data."
      ]
    },
    {
      "metadata": {
        "id": "dLRQ6XOVdUHK",
        "colab_type": "text"
      },
      "cell_type": "markdown",
      "source": [
        "----\n",
        "\n",
        "## Analyzing Model Performance\n",
        "In this third section of the project, you'll take a look at several models' learning and testing performances on various subsets of training data. Additionally, you'll investigate one particular algorithm with an increasing `'max_depth'` parameter on the full training set to observe how model complexity affects performance. Graphing your model's performance based on varying criteria can be beneficial in the analysis process, such as visualizing behavior that may not have been apparent from the results alone."
      ]
    },
    {
      "metadata": {
        "id": "kwb_6eGgdUHN",
        "colab_type": "text"
      },
      "cell_type": "markdown",
      "source": [
        "### Learning Curves\n",
        "The following code cell produces four graphs for a decision tree model with different maximum depths. Each graph visualizes the learning curves of the model for both training and testing as the size of the training set is increased. Note that the shaded region of a learning curve denotes the uncertainty of that curve (measured as the standard deviation). The model is scored on both the training and testing sets using R<sup>2</sup>, the coefficient of determination.  \n",
        "\n",
        "Run the code cell below and use these graphs to answer the following question."
      ]
    },
    {
      "metadata": {
        "scrolled": false,
        "id": "aWBZqP1KdUHP",
        "colab_type": "code",
        "outputId": "54f4b22b-7f53-43bf-9c5d-e7409c79c5b9",
        "colab": {
          "base_uri": "https://localhost:8080/",
          "height": 539
        }
      },
      "cell_type": "code",
      "source": [
        "# Produce learning curves for varying training set sizes and maximum depths\n",
        "vs.ModelLearning(features, prices)"
      ],
      "execution_count": 0,
      "outputs": [
        {
          "output_type": "display_data",
          "data": {
            "image/png": "[encoded data removed]",
            "text/plain": [
              "<Figure size 720x504 with 4 Axes>"
            ]
          },
          "metadata": {
            "tags": []
          }
        }
      ]
    },
    {
      "metadata": {
        "id": "CgiA9lBldUHV",
        "colab_type": "text"
      },
      "cell_type": "markdown",
      "source": [
        "### Question 4 - Learning the Data\n",
        "* Choose one of the graphs above and state the maximum depth for the model. \n",
        "* What happens to the score of the training curve as more training points are added? What about the testing curve? \n",
        "* Would having more training points benefit the model? \n",
        "\n",
        "**Hint:** Are the learning curves converging to particular scores? Generally speaking, the more data you have, the better. But if your training and testing curves are converging with a score above your benchmark threshold, would this be necessary?\n",
        "Think about the pros and cons of adding more training points based on if the training and testing curves are converging."
      ]
    },
    {
      "metadata": {
        "id": "ztV3Z2PJdUHY",
        "colab_type": "text"
      },
      "cell_type": "markdown",
      "source": [
        "**Answer: ** Considering the second model with maximum depth of 3, we can observe that score of the training curve decreases as more number of training points are added but it gradually levels off from particular point. Also, initially iwth increses in trainig points, the score of testing curve increases and it levels off with the training curve after some point.\n",
        "\n"
      ]
    },
    {
      "metadata": {
        "id": "y6g6HxBOdUHa",
        "colab_type": "text"
      },
      "cell_type": "markdown",
      "source": [
        "### Complexity Curves\n",
        "The following code cell produces a graph for a decision tree model that has been trained and validated on the training data using different maximum depths. The graph produces two complexity curves — one for training and one for validation. Similar to the **learning curves**, the shaded regions of both the complexity curves denote the uncertainty in those curves, and the model is scored on both the training and validation sets using the `performance_metric` function.  \n",
        "\n",
        "** Run the code cell below and use this graph to answer the following two questions Q5 and Q6. **"
      ]
    },
    {
      "metadata": {
        "id": "odOMBNtmdUHb",
        "colab_type": "code",
        "outputId": "f8e0b333-8138-41ca-f909-621875265e4b",
        "colab": {
          "base_uri": "https://localhost:8080/",
          "height": 349
        }
      },
      "cell_type": "code",
      "source": [
        "vs.ModelComplexity(X_train, y_train)"
      ],
      "execution_count": 0,
      "outputs": [
        {
          "output_type": "display_data",
          "data": {
            "image/png": "[encoded data removed]",
            "text/plain": [
              "<Figure size 504x360 with 1 Axes>"
            ]
          },
          "metadata": {
            "tags": []
          }
        }
      ]
    },
    {
      "metadata": {
        "id": "Dc-ik4FJdUHh",
        "colab_type": "text"
      },
      "cell_type": "markdown",
      "source": [
        "### Question 5 - Bias-Variance Tradeoff\n",
        "* When the model is trained with a maximum depth of 1, does the model suffer from high bias or from high variance? \n",
        "* How about when the model is trained with a maximum depth of 10? What visual cues in the graph justify your conclusions?\n",
        "\n",
        "**Hint:** High bias is a sign of underfitting(model is not complex enough to pick up the nuances in the data) and high variance is a sign of overfitting(model is by-hearting the data and cannot generalize well). Think about which model(depth 1 or 10) aligns with which part of the tradeoff."
      ]
    },
    {
      "metadata": {
        "id": "H5atbHx4dUHj",
        "colab_type": "text"
      },
      "cell_type": "markdown",
      "source": [
        "**Answer: ** When the model is trained with a maxinum depth of 1, the model suffer from high bias because both the training and the testing set has the score almost equal to o.4 which is very low. The model is seffering from underfitting. But when the model is trained with a maximum depth of 10, the training model has score almost equal to 1 but with testing set, the score of the model drops to almost 0.6. There is high varience between trainning and testing datasets. Therefore the model is suffering from overfitting."
      ]
    },
    {
      "metadata": {
        "id": "aaV42Pw2dUHk",
        "colab_type": "text"
      },
      "cell_type": "markdown",
      "source": [
        "### Question 6 - Best-Guess Optimal Model\n",
        "* Which maximum depth do you think results in a model that best generalizes to unseen data? \n",
        "* What intuition lead you to this answer?\n",
        "\n",
        "** Hint: ** Look at the graph above Question 5 and see where the validation scores lie for the various depths that have been assigned to the model. Does it get better with increased depth? At what point do we get our best validation score without overcomplicating our model? And remember, Occams Razor states \"Among competing hypotheses, the one with the fewest assumptions should be selected.\""
      ]
    },
    {
      "metadata": {
        "id": "h27-UZfNdUHo",
        "colab_type": "text"
      },
      "cell_type": "markdown",
      "source": [
        "**Answer: ** With maximum depth 3 it will results in a model that best generalizes to unseen data. From the graph we can observe that at max_depth 3, both training and testing set best fit each other with highest possible score. But after max_depth 4 we can observe the rise in score for training set while there is decrease in score for testing score indicating the overfitting. "
      ]
    },
    {
      "metadata": {
        "id": "1aZIKlcddUHq",
        "colab_type": "text"
      },
      "cell_type": "markdown",
      "source": [
        "-----\n",
        "\n",
        "## Evaluating Model Performance\n",
        "In this final section of the project, you will construct a model and make a prediction on the client's feature set using an optimized model from `fit_model`."
      ]
    },
    {
      "metadata": {
        "id": "oL0fY5uMP7-u",
        "colab_type": "text"
      },
      "cell_type": "markdown",
      "source": [
        ""
      ]
    },
    {
      "metadata": {
        "id": "lL6keGJidUHs",
        "colab_type": "text"
      },
      "cell_type": "markdown",
      "source": [
        "### Question 7 - Grid Search\n",
        "* What is the grid search technique?\n",
        "* How it can be applied to optimize a learning algorithm?\n",
        "\n",
        "** Hint: ** When explaining the Grid Search technique, be sure to touch upon why it is used,  what the 'grid' entails and what the end goal of this method is. To solidify your answer, you can also give an example of a parameter in a model that can be optimized using this approach."
      ]
    },
    {
      "metadata": {
        "id": "mvqn68TKdUHu",
        "colab_type": "text"
      },
      "cell_type": "markdown",
      "source": [
        "** Answer: **  Grid search technique is one of the approach to tune or optimize  hyperparameter in a machine learning model. In grid search approach, there will be combinations of parameters specified as grid. In this approach, it build and evaluate a model for each combinations of parameters specified in grid to get the optimum and best model.  "
      ]
    },
    {
      "metadata": {
        "id": "4HA4CmzgdUHy",
        "colab_type": "text"
      },
      "cell_type": "markdown",
      "source": [
        "### Question 8 - Cross-Validation\n",
        "\n",
        "* What is the k-fold cross-validation training technique? \n",
        "\n",
        "* What benefit does this technique provide for grid search when optimizing a model?\n",
        "\n",
        "**Hint:** When explaining the k-fold cross validation technique, be sure to touch upon what 'k' is, how the dataset is split into different parts for training and testing and the number of times it is run based on the 'k' value.\n",
        "\n",
        "When thinking about how k-fold cross validation helps grid search, think about the main drawbacks of grid search which are hinged upon **using a particular subset of data for training or testing** and how k-fold cv could help alleviate that. You can refer to the [docs](http://scikit-learn.org/stable/modules/cross_validation.html#cross-validation) for your answer."
      ]
    },
    {
      "metadata": {
        "id": "tJA_aXOKdUH1",
        "colab_type": "text"
      },
      "cell_type": "markdown",
      "source": [
        "**Answer: ** In machine learning, we divide a protion for data for test set and rest for training the model. However, it is not a good approach because using different portion of test set will gives totally different results. K-fold cross validation provides solution for that problem by dividing the datasets in to folds. Each folds are use as testing set at while other folds are use for training. \n",
        "\n",
        "In K-fold cross validation, we divide data sets into K folds. Based on the value of k, the testing is perform k times. For example, if our datasets are divided into 4 folds, in first iteration, first fold is used as testing set and rest three folds are used for training the model. In second iteration, second fold is used to test the model and rest folds are use to train the model. The process is repeated untill all the 4 folds are used as test set. \n",
        "\n",
        "In the end we compare which model performs the best and choose that model."
      ]
    },
    {
      "metadata": {
        "id": "931QLadAdUH5",
        "colab_type": "text"
      },
      "cell_type": "markdown",
      "source": [
        "### Implementation: Fitting a Model\n",
        "Your final implementation requires that you bring everything together and train a model using the **decision tree algorithm**. To ensure that you are producing an optimized model, you will train the model using the grid search technique to optimize the `'max_depth'` parameter for the decision tree. The `'max_depth'` parameter can be thought of as how many questions the decision tree algorithm is allowed to ask about the data before making a prediction. Decision trees are part of a class of algorithms called *supervised learning algorithms*.\n",
        "\n",
        "In addition, you will find your implementation is using `ShuffleSplit()` for an alternative form of cross-validation (see the `'cv_sets'` variable). While it is not the K-Fold cross-validation technique you describe in **Question 8**, this type of cross-validation technique is just as useful!. The `ShuffleSplit()` implementation below will create 10 (`'n_splits'`) shuffled sets, and for each shuffle, 20% (`'test_size'`) of the data will be used as the *validation set*. While you're working on your implementation, think about the contrasts and similarities it has to the K-fold cross-validation technique.\n",
        "\n",
        "For the `fit_model` function in the code cell below, you will need to implement the following:\n",
        "- Use [`DecisionTreeRegressor`](http://scikit-learn.org/stable/modules/generated/sklearn.tree.DecisionTreeRegressor.html) from `sklearn.tree` to create a decision tree regressor object.\n",
        "  - Assign this object to the `'regressor'` variable.\n",
        "- Create a dictionary for `'max_depth'` with the values from 1 to 10, and assign this to the `'params'` variable.\n",
        "- Use [`make_scorer`](http://scikit-learn.org/stable/modules/generated/sklearn.metrics.make_scorer.html) from `sklearn.metrics` to create a scoring function object.\n",
        "  - Pass the `performance_metric` function as a parameter to the object.\n",
        "  - Assign this scoring function to the `'scoring_fnc'` variable.\n",
        "- Use [`GridSearchCV`](http://scikit-learn.org/0.20/modules/generated/sklearn.model_selection.GridSearchCV.html) from `sklearn.model_selection` to create a grid search object.\n",
        "  - Pass the variables `'regressor'`, `'params'`, `'scoring_fnc'`, and `'cv_sets'` as parameters to the object. \n",
        "  - Assign the `GridSearchCV` object to the `'grid'` variable."
      ]
    },
    {
      "metadata": {
        "id": "yC7zTFzUdUH8",
        "colab_type": "code",
        "colab": {}
      },
      "cell_type": "code",
      "source": [
        "# TODO: Import 'make_scorer', 'DecisionTreeRegressor', and 'GridSearchCV'\n",
        "from sklearn.tree import DecisionTreeRegressor\n",
        "from sklearn.metrics import make_scorer\n",
        "from sklearn.model_selection import GridSearchCV\n",
        "\n",
        "def fit_model(X, y):\n",
        "    \"\"\" Performs grid search over the 'max_depth' parameter for a \n",
        "        decision tree regressor trained on the input data [X, y]. \"\"\"\n",
        "    \n",
        "    # Create cross-validation sets from the training data\n",
        "    cv_sets = ShuffleSplit(n_splits = 10, test_size = 0.20, random_state = 0)\n",
        "\n",
        "    # TODO: Create a decision tree regressor object\n",
        "    regressor = DecisionTreeRegressor(random_state=0)\n",
        "\n",
        "    # TODO: Create a dictionary for the parameter 'max_depth' with a range from 1 to 10\n",
        "    params = {'max_depth':range(1,10)}\n",
        "    \n",
        "\n",
        "    # TODO: Transform 'performance_metric' into a scoring function using 'make_scorer' \n",
        "    scoring_fnc = make_scorer(performance_metric)\n",
        "\n",
        "    # TODO: Create the grid search cv object --> GridSearchCV()\n",
        "    # Make sure to include the right parameters in the object:\n",
        "    # (estimator, param_grid, scoring, cv) which have values 'regressor', 'params', 'scoring_fnc', and 'cv_sets' respectively.\n",
        "    grid = GridSearchCV(regressor,param_grid=params,scoring=scoring_fnc,cv=cv_sets)\n",
        "\n",
        "    # Fit the grid search object to the data to compute the optimal model\n",
        "    grid = grid.fit(X, y)\n",
        "\n",
        "    # Return the optimal model after fitting the data\n",
        "    return grid.best_estimator_"
      ],
      "execution_count": 0,
      "outputs": []
    },
    {
      "metadata": {
        "id": "QMziElL2dUID",
        "colab_type": "text"
      },
      "cell_type": "markdown",
      "source": [
        "### Making Predictions\n",
        "Once a model has been trained on a given set of data, it can now be used to make predictions on new sets of input data. In the case of a *decision tree regressor*, the model has learned *what the best questions to ask about the input data are*, and can respond with a prediction for the **target variable**. You can use these predictions to gain information about data where the value of the target variable is unknown — such as data the model was not trained on."
      ]
    },
    {
      "metadata": {
        "id": "gGE2V55odUIF",
        "colab_type": "text"
      },
      "cell_type": "markdown",
      "source": [
        "### Question 9 - Optimal Model\n",
        "\n",
        "* What maximum depth does the optimal model have? How does this result compare to your guess in **Question 6**?  \n",
        "\n",
        "Run the code block below to fit the decision tree regressor to the training data and produce an optimal model."
      ]
    },
    {
      "metadata": {
        "scrolled": true,
        "id": "618EVe5MdUIM",
        "colab_type": "code",
        "outputId": "7f4c4c47-208d-48a5-a848-791e45d6810a",
        "colab": {
          "base_uri": "https://localhost:8080/",
          "height": 34
        }
      },
      "cell_type": "code",
      "source": [
        "# Fit the training data to the model using grid search\n",
        "reg = fit_model(X_train, y_train)\n",
        "\n",
        "# Produce the value for 'max_depth'\n",
        "print(\"Parameter 'max_depth' is {} for the optimal model.\".format(reg.get_params()['max_depth']))"
      ],
      "execution_count": 0,
      "outputs": [
        {
          "output_type": "stream",
          "text": [
            "Parameter 'max_depth' is 4 for the optimal model.\n"
          ],
          "name": "stdout"
        }
      ]
    },
    {
      "metadata": {
        "id": "zg5toKmzdUIZ",
        "colab_type": "text"
      },
      "cell_type": "markdown",
      "source": [
        "** Hint: ** The answer comes from the output of the code snipped above.\n",
        "\n",
        "**Answer: ** Optimal model has max_depth of 4"
      ]
    },
    {
      "metadata": {
        "id": "QpKdiFJbdUIc",
        "colab_type": "text"
      },
      "cell_type": "markdown",
      "source": [
        "### Question 10 - Predicting Selling Prices\n",
        "Imagine that you were a real estate agent in the Boston area looking to use this model to help price homes owned by your clients that they wish to sell. You have collected the following information from three of your clients:\n",
        "\n",
        "| Feature | Client 1 | Client 2 | Client 3 |\n",
        "| :---: | :---: | :---: | :---: |\n",
        "| Total number of rooms in home | 5 rooms | 4 rooms | 8 rooms |\n",
        "| Neighborhood poverty level (as %) | 17% | 32% | 3% |\n",
        "| Student-teacher ratio of nearby schools | 15-to-1 | 22-to-1 | 12-to-1 |\n",
        "\n",
        "* What price would you recommend each client sell his/her home at? \n",
        "* Do these prices seem reasonable given the values for the respective features? \n",
        "\n",
        "**Hint:** Use the statistics you calculated in the **Data Exploration** section to help justify your response.  Of the three clients, client 3 has has the biggest house, in the best public school neighborhood with the lowest poverty level; while client 2 has the smallest house, in a neighborhood with a relatively high poverty rate and not the best public schools.\n",
        "\n",
        "Run the code block below to have your optimized model make predictions for each client's home."
      ]
    },
    {
      "metadata": {
        "id": "ZZotV922dUIe",
        "colab_type": "code",
        "outputId": "799d64fd-961d-4b0a-c5e9-c7f5dcbe86ad",
        "colab": {
          "base_uri": "https://localhost:8080/",
          "height": 68
        }
      },
      "cell_type": "code",
      "source": [
        "# Produce a matrix for client data\n",
        "client_data = [[5, 17, 15], # Client 1\n",
        "               [4, 32, 22], # Client 2\n",
        "               [8, 3, 12]]  # Client 3\n",
        "\n",
        "# Show predictions\n",
        "for i, price in enumerate(reg.predict(client_data)):\n",
        "    print(\"Predicted selling price for Client {}'s home: ${:,.2f}\".format(i+1, price))"
      ],
      "execution_count": 0,
      "outputs": [
        {
          "output_type": "stream",
          "text": [
            "Predicted selling price for Client 1's home: $403,025.00\n",
            "Predicted selling price for Client 2's home: $237,478.72\n",
            "Predicted selling price for Client 3's home: $931,636.36\n"
          ],
          "name": "stdout"
        }
      ]
    },
    {
      "metadata": {
        "id": "enN9JiHDdUIj",
        "colab_type": "text"
      },
      "cell_type": "markdown",
      "source": [
        "**Answer: **"
      ]
    },
    {
      "metadata": {
        "id": "Xdza388SdUIk",
        "colab_type": "text"
      },
      "cell_type": "markdown",
      "source": [
        "### Sensitivity\n",
        "An optimal model is not necessarily a robust model. Sometimes, a model is either too complex or too simple to sufficiently generalize to new data. Sometimes, a model could use a learning algorithm that is not appropriate for the structure of the data given. Other times, the data itself could be too noisy or contain too few samples to allow a model to adequately capture the target variable — i.e., the model is underfitted. \n",
        "\n",
        "**Run the code cell below to run the `fit_model` function ten times with different training and testing sets to see how the prediction for a specific client changes with respect to the data it's trained on.**"
      ]
    },
    {
      "metadata": {
        "id": "2lOIsZV2dUIm",
        "colab_type": "code",
        "outputId": "82c3c3aa-3793-4a86-ea6b-2142029bf7cc",
        "colab": {
          "base_uri": "https://localhost:8080/",
          "height": 221
        }
      },
      "cell_type": "code",
      "source": [
        "vs.PredictTrials(features, prices, fit_model, client_data)"
      ],
      "execution_count": 0,
      "outputs": [
        {
          "output_type": "stream",
          "text": [
            "Trial 1: $391,183.33\n",
            "Trial 2: $424,935.00\n",
            "Trial 3: $415,800.00\n",
            "Trial 4: $420,622.22\n",
            "Trial 5: $418,377.27\n",
            "Trial 6: $411,931.58\n",
            "Trial 7: $399,663.16\n",
            "Trial 8: $407,232.00\n",
            "Trial 9: $351,577.61\n",
            "Trial 10: $413,700.00\n",
            "\n",
            "Range in prices: $73,357.39\n"
          ],
          "name": "stdout"
        }
      ]
    },
    {
      "metadata": {
        "id": "Xp6Wr1ZydUIs",
        "colab_type": "text"
      },
      "cell_type": "markdown",
      "source": [
        "### Question 11 - Applicability\n",
        "\n",
        "* In a few sentences, discuss whether the constructed model should or should not be used in a real-world setting.  \n",
        "\n",
        "**Hint:** Take a look at the range in prices as calculated in the code snippet above. Some questions to answering:\n",
        "- How relevant today is data that was collected from 1978? How important is inflation?\n",
        "- Are the features present in the data sufficient to describe a home? Do you think factors like quality of apppliances in the home, square feet of the plot area, presence of pool or not etc should factor in?\n",
        "- Is the model robust enough to make consistent predictions?\n",
        "- Would data collected in an urban city like Boston be applicable in a rural city?\n",
        "- Is it fair to judge the price of an individual home based on the characteristics of the entire neighborhood?"
      ]
    },
    {
      "metadata": {
        "id": "oZwKbGFldUIu",
        "colab_type": "text"
      },
      "cell_type": "markdown",
      "source": [
        "**Answer: **"
      ]
    },
    {
      "metadata": {
        "id": "n7WrorNGdUIw",
        "colab_type": "text"
      },
      "cell_type": "markdown",
      "source": [
        "> **Note**: Once you have completed all of the code implementations and successfully answered each question above, you may finalize your work by exporting the iPython Notebook as an HTML document. You can do this by using the menu above and navigating to  \n",
        "**File -> Download as -> HTML (.html)**. Include the finished document along with this notebook as your submission."
      ]
    }
  ]
}